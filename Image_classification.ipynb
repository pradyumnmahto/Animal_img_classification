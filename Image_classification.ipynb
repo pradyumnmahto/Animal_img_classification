{
 "cells": [
  {
   "cell_type": "code",
   "execution_count": 1,
   "id": "602f2663",
   "metadata": {},
   "outputs": [],
   "source": [
    "import tensorflow as tf\n",
    "from tensorflow.keras.applications.vgg16 import VGG16\n",
    "from tensorflow.keras.models import Sequential\n",
    "from tensorflow.keras.layers import Dense, Flatten, Dropout\n",
    "from tensorflow.keras.preprocessing.image import ImageDataGenerator"
   ]
  },
  {
   "cell_type": "code",
   "execution_count": 2,
   "id": "8da076ca",
   "metadata": {},
   "outputs": [],
   "source": [
    "train_data_path = \"C:/Users/prady/Desktop/study/archive/training_set/training_set\"\n",
    "test_data_path = \"C:/Users/prady/Desktop/study/archive/test_set/test_set\""
   ]
  },
  {
   "cell_type": "code",
   "execution_count": 3,
   "id": "91ba28c4",
   "metadata": {},
   "outputs": [],
   "source": [
    "input_shape = (224, 224, 3)  # Input image shape (height, width, channels)\n",
    "batch_size = 32\n",
    "epochs = 10\n",
    "num_classes = 2  # Number of classes (cat and dog)"
   ]
  },
  {
   "cell_type": "code",
   "execution_count": 4,
   "id": "4c537e3b",
   "metadata": {},
   "outputs": [],
   "source": [
    "base_model = VGG16(weights='imagenet', include_top=False, input_shape=input_shape)"
   ]
  },
  {
   "cell_type": "code",
   "execution_count": 5,
   "id": "1092a489",
   "metadata": {},
   "outputs": [],
   "source": [
    "for layer in base_model.layers:\n",
    "    layer.trainable = False"
   ]
  },
  {
   "cell_type": "code",
   "execution_count": 6,
   "id": "1538daa1",
   "metadata": {},
   "outputs": [],
   "source": [
    "model = Sequential()\n",
    "model.add(base_model)\n",
    "model.add(Flatten())\n",
    "model.add(Dense(256, activation='relu'))\n",
    "model.add(Dropout(0.5))\n",
    "model.add(Dense(num_classes, activation='softmax'))"
   ]
  },
  {
   "cell_type": "code",
   "execution_count": 7,
   "id": "cb1d1c90",
   "metadata": {},
   "outputs": [],
   "source": [
    "model.compile(optimizer='adam', loss='categorical_crossentropy', metrics=['accuracy'])"
   ]
  },
  {
   "cell_type": "code",
   "execution_count": 8,
   "id": "a1ffe8ed",
   "metadata": {},
   "outputs": [],
   "source": [
    "train_datagen = ImageDataGenerator(\n",
    "    rescale=1./255,  # Normalize pixel values between 0 and 1\n",
    "    shear_range=0.2,\n",
    "    zoom_range=0.2,\n",
    "    horizontal_flip=True)\n",
    "\n",
    "test_datagen = ImageDataGenerator(rescale=1./255)"
   ]
  },
  {
   "cell_type": "code",
   "execution_count": 9,
   "id": "9ef00e9b",
   "metadata": {},
   "outputs": [
    {
     "name": "stdout",
     "output_type": "stream",
     "text": [
      "Found 8005 images belonging to 2 classes.\n",
      "Found 2023 images belonging to 2 classes.\n"
     ]
    }
   ],
   "source": [
    "train_generator = train_datagen.flow_from_directory(\n",
    "    train_data_path,\n",
    "    target_size=(input_shape[0], input_shape[1]),\n",
    "    batch_size=batch_size,\n",
    "    class_mode='categorical')\n",
    "\n",
    "test_generator = test_datagen.flow_from_directory(\n",
    "    test_data_path,\n",
    "    target_size=(input_shape[0], input_shape[1]),\n",
    "    batch_size=batch_size,\n",
    "    class_mode='categorical')"
   ]
  },
  {
   "cell_type": "code",
   "execution_count": 10,
   "id": "0cd8ec99",
   "metadata": {},
   "outputs": [
    {
     "name": "stdout",
     "output_type": "stream",
     "text": [
      "Epoch 1/10\n",
      "250/250 [==============================] - 2306s 9s/step - loss: 0.5099 - accuracy: 0.8373 - val_loss: 0.3497 - val_accuracy: 0.8259\n",
      "Epoch 2/10\n",
      "250/250 [==============================] - 1961s 8s/step - loss: 0.2734 - accuracy: 0.8856 - val_loss: 0.2099 - val_accuracy: 0.9092\n",
      "Epoch 3/10\n",
      "250/250 [==============================] - 1987s 8s/step - loss: 0.2480 - accuracy: 0.8945 - val_loss: 0.1832 - val_accuracy: 0.9216\n",
      "Epoch 4/10\n",
      "250/250 [==============================] - 1895s 8s/step - loss: 0.2509 - accuracy: 0.8963 - val_loss: 0.1835 - val_accuracy: 0.9201\n",
      "Epoch 5/10\n",
      "250/250 [==============================] - 1941s 8s/step - loss: 0.2367 - accuracy: 0.8983 - val_loss: 0.1815 - val_accuracy: 0.9256\n",
      "Epoch 6/10\n",
      "250/250 [==============================] - 1903s 8s/step - loss: 0.2221 - accuracy: 0.9081 - val_loss: 0.1740 - val_accuracy: 0.9320\n",
      "Epoch 7/10\n",
      "250/250 [==============================] - 2012s 8s/step - loss: 0.2127 - accuracy: 0.9009 - val_loss: 0.1754 - val_accuracy: 0.9325\n",
      "Epoch 8/10\n",
      "250/250 [==============================] - 1974s 8s/step - loss: 0.2088 - accuracy: 0.9117 - val_loss: 0.1973 - val_accuracy: 0.9187\n",
      "Epoch 9/10\n",
      "250/250 [==============================] - 1862s 7s/step - loss: 0.1990 - accuracy: 0.9180 - val_loss: 0.1739 - val_accuracy: 0.9286\n",
      "Epoch 10/10\n",
      "250/250 [==============================] - 1905s 8s/step - loss: 0.1807 - accuracy: 0.9241 - val_loss: 0.1971 - val_accuracy: 0.9266\n"
     ]
    },
    {
     "data": {
      "text/plain": [
       "<keras.callbacks.History at 0x2b0b99a3a30>"
      ]
     },
     "execution_count": 10,
     "metadata": {},
     "output_type": "execute_result"
    }
   ],
   "source": [
    "model.fit(train_generator,\n",
    "          steps_per_epoch=train_generator.n // batch_size,\n",
    "          epochs=epochs,\n",
    "          validation_data=test_generator,\n",
    "          validation_steps=test_generator.n // batch_size)"
   ]
  },
  {
   "cell_type": "code",
   "execution_count": 11,
   "id": "4bb667be",
   "metadata": {},
   "outputs": [
    {
     "name": "stdout",
     "output_type": "stream",
     "text": [
      "64/64 [==============================] - 378s 6s/step - loss: 0.1970 - accuracy: 0.9263\n"
     ]
    }
   ],
   "source": [
    "test_loss, test_accuracy = model.evaluate(test_generator)"
   ]
  },
  {
   "cell_type": "code",
   "execution_count": 12,
   "id": "de16dccf",
   "metadata": {},
   "outputs": [
    {
     "name": "stdout",
     "output_type": "stream",
     "text": [
      "Test Loss: 0.19695274531841278\n",
      "Test Accuracy: 0.926347017288208\n"
     ]
    }
   ],
   "source": [
    "print(\"Test Loss:\", test_loss)\n",
    "print(\"Test Accuracy:\", test_accuracy)"
   ]
  },
  {
   "cell_type": "code",
   "execution_count": 13,
   "id": "7aa7c334",
   "metadata": {},
   "outputs": [],
   "source": [
    "model.save(\"cat_dog_classification.h5\")"
   ]
  },
  {
   "cell_type": "code",
   "execution_count": null,
   "id": "0babd454",
   "metadata": {},
   "outputs": [],
   "source": []
  }
 ],
 "metadata": {
  "kernelspec": {
   "display_name": "Python 3 (ipykernel)",
   "language": "python",
   "name": "python3"
  },
  "language_info": {
   "codemirror_mode": {
    "name": "ipython",
    "version": 3
   },
   "file_extension": ".py",
   "mimetype": "text/x-python",
   "name": "python",
   "nbconvert_exporter": "python",
   "pygments_lexer": "ipython3",
   "version": "3.10.9"
  }
 },
 "nbformat": 4,
 "nbformat_minor": 5
}
